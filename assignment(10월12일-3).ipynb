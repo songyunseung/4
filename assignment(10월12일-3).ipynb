{
 "cells": [
  {
   "cell_type": "code",
   "execution_count": 10,
   "id": "61b453d0",
   "metadata": {},
   "outputs": [
    {
     "name": "stdout",
     "output_type": "stream",
     "text": [
      "정수를 여러 개 입력하시오 :3 45 32 5 7 8 4 44 5 90 17\n",
      "평균값은 23.6\n",
      "최댓값은  90\n",
      "최솟값은  3\n"
     ]
    }
   ],
   "source": [
    "def mean_of_n(*nums): #가변인자를 이용하여 여러 정수를 입력받을 수 있다\n",
    "    size = 0\n",
    "    su = 0\n",
    "    for i in nums:\n",
    "        su += i\n",
    "        size += 1\n",
    "    return su / size\n",
    "def max_of_n(*nums):\n",
    "    return max(nums)\n",
    "def min_of_n(*nums):\n",
    "    return min(nums)\n",
    "    \n",
    "a,b,c,d,e,f,g,h,i,j,k = map(int, input(\"정수를 여러 개 입력하시오 :\").split())\n",
    "#map과 split()함수로 여러 정수를 입력받을 수 있다.\n",
    "print(\"평균값은 {0:.1f}\".format(mean_of_n(a,b,c,d,e,f,g,h,i,j,k)))\n",
    "print(\"최댓값은 \",max_of_n(a,b,c,d,e,f,g,h,i,j,k))\n",
    "print(\"최솟값은 \",min_of_n(a,b,c,d,e,f,g,h,i,j,k))\n"
   ]
  },
  {
   "cell_type": "code",
   "execution_count": 11,
   "id": "c6ff0a8d",
   "metadata": {},
   "outputs": [
    {
     "name": "stdout",
     "output_type": "stream",
     "text": [
      "x1 좌표를 입력하시오 : 0\n",
      "y1 좌표를 입력하시오 : 0\n",
      "x2 좌표를 입력하시오 : 3\n",
      "y2 좌표를 입력하시오 : 4\n",
      "직각삼각형의 면적은 :6.0\n"
     ]
    }
   ],
   "source": [
    "def area(x1,y1,x2,y2):\n",
    "    are = (x2-x1)*(y2-y1)/2\n",
    "    return are\n",
    "\n",
    "x1 = int(input(\"x1 좌표를 입력하시오 : \"))\n",
    "y1 = int(input(\"y1 좌표를 입력하시오 : \"))\n",
    "x2 = int(input(\"x2 좌표를 입력하시오 : \"))\n",
    "y2 = int(input(\"y2 좌표를 입력하시오 : \"))\n",
    "#x2와 y2가 x1과 y1보다 크기때문에 부호를 신경쓰지않고 계산하면된다\n",
    "print(\"직각삼각형의 면적은 :{0:.1f}\".format(area(x1,y1,x2,y2)))\n"
   ]
  },
  {
   "cell_type": "code",
   "execution_count": 19,
   "id": "0d78f1e5",
   "metadata": {},
   "outputs": [
    {
     "name": "stdout",
     "output_type": "stream",
     "text": [
      "쉼표로 구분된 정수를 여러 개 입력하시오 :56,67,89,34,24,300,99\n",
      "입력된 정수의 리스트:  [56, 67, 89, 34, 24, 300, 99]\n",
      "정렬된 정수의 리스트:  [24, 34, 56, 67, 89, 99, 300]\n"
     ]
    }
   ],
   "source": [
    "def sub_list(*nums):\n",
    "    list1 = []\n",
    "    for i in nums:\n",
    "        list1.append(i)\n",
    "    return list1\n",
    "\n",
    "a,b,c,d,e,f,g = map(int,input(\"쉼표로 구분된 정수를 여러 개 입력하시오 :\").split(','))\n",
    "list0 = sub_list(a,b,c,d,e,f,g)  #split()함수에','를 입력해서 ,를 구분자로 만든다\n",
    "print(\"입력된 정수의 리스트: \",list0)\n",
    "list0.sort()\n",
    "print(\"정렬된 정수의 리스트: \",list0)"
   ]
  },
  {
   "cell_type": "code",
   "execution_count": 23,
   "id": "a38cb15a",
   "metadata": {},
   "outputs": [
    {
     "name": "stdout",
     "output_type": "stream",
     "text": [
      "100과 200중 큰 수는 : 200\n",
      "100과 200중 작은 수는 : 100\n"
     ]
    }
   ],
   "source": [
    "def max2(m,n):  #if와 elif문을 이용하였다\n",
    "    if m>n:\n",
    "        return m\n",
    "    elif n>m:\n",
    "        return n\n",
    "def min2(m,n):\n",
    "    if m>n:\n",
    "        return n\n",
    "    elif n>m:\n",
    "        return m\n",
    "m = 100\n",
    "n = 200\n",
    "print(\"{}과 {}중 큰 수는 : {}\".format(m,n,max2(m,n)))\n",
    "print(\"{}과 {}중 작은 수는 : {}\".format(m,n,min2(m,n)))\n"
   ]
  },
  {
   "cell_type": "code",
   "execution_count": 24,
   "id": "9f975ab1",
   "metadata": {},
   "outputs": [
    {
     "name": "stdout",
     "output_type": "stream",
     "text": [
      "1마일 = 1.61킬로미터\n",
      "2마일 = 3.22킬로미터\n",
      "3마일 = 4.83킬로미터\n",
      "4마일 = 6.44킬로미터\n",
      "5마일 = 8.05킬로미터\n"
     ]
    }
   ],
   "source": [
    "def mile2km(m):\n",
    "    return m*1.61\n",
    "print(\"{}마일 = {}킬로미터\".format(1,mile2km(1)))  #format함수를 이용하여 보다 편리하게 표현할 수 있다\n",
    "print(\"{}마일 = {}킬로미터\".format(2,mile2km(2)))\n",
    "print(\"{}마일 = {}킬로미터\".format(3,mile2km(3)))\n",
    "print(\"{}마일 = {}킬로미터\".format(4,mile2km(4)))\n",
    "print(\"{}마일 = {}킬로미터\".format(5,mile2km(5)))\n"
   ]
  },
  {
   "cell_type": "code",
   "execution_count": null,
   "id": "ec6c4cee",
   "metadata": {},
   "outputs": [],
   "source": []
  }
 ],
 "metadata": {
  "kernelspec": {
   "display_name": "Python 3 (ipykernel)",
   "language": "python",
   "name": "python3"
  },
  "language_info": {
   "codemirror_mode": {
    "name": "ipython",
    "version": 3
   },
   "file_extension": ".py",
   "mimetype": "text/x-python",
   "name": "python",
   "nbconvert_exporter": "python",
   "pygments_lexer": "ipython3",
   "version": "3.9.12"
  }
 },
 "nbformat": 4,
 "nbformat_minor": 5
}
